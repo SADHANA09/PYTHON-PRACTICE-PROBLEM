{
 "cells": [
  {
   "cell_type": "markdown",
   "id": "d5208008",
   "metadata": {},
   "source": [
    "#  LETS PRACTICE \n",
    "# \"PRACTICE MAKES A MAN PERFECT\""
   ]
  },
  {
   "cell_type": "markdown",
   "id": "fee95307",
   "metadata": {},
   "source": [
    " # QUESTION 1\n",
    "\n",
    "Write a Python program to print the following string in a specific format (see the output). Go to the editor\n",
    "Sample String : \"Twinkle, twinkle, little star, How I wonder what you are! Up above the world so high, Like a diamond in the sky. Twinkle, twinkle, little star, How I wonder what you are\" Output :\n",
    "\n",
    "Twinkle, twinkle, little star,\n",
    "        How I wonder what you are! \n",
    "            Up above the world so high,   \t\t\n",
    "            Like a diamond in the sky. \n",
    "Twinkle, twinkle, little star, \n",
    "        How I wonder what you are"
   ]
  },
  {
   "cell_type": "code",
   "execution_count": 8,
   "id": "0accd157",
   "metadata": {},
   "outputs": [
    {
     "name": "stdout",
     "output_type": "stream",
     "text": [
      "Twinkle, twinle, little star,\n",
      "\tHow I wonder what you are!\n",
      "\t\tUp above the world so high,\n",
      "\t\tLike a diamond in the sky.\n",
      "Twinkle,twinkle, little star,\n",
      "\tHow I wonder what you are\n"
     ]
    }
   ],
   "source": [
    "print('Twinkle, twinle, little star,')\n",
    "print('\\tHow I wonder what you are!')\n",
    "print('\\t\\tUp above the world so high,')\n",
    "print('\\t\\tLike a diamond in the sky.')\n",
    "print('Twinkle,twinkle, little star,')\n",
    "print('\\tHow I wonder what you are')"
   ]
  },
  {
   "cell_type": "markdown",
   "id": "403777e0",
   "metadata": {},
   "source": [
    "# or"
   ]
  },
  {
   "cell_type": "code",
   "execution_count": 9,
   "id": "a4377f1a",
   "metadata": {},
   "outputs": [
    {
     "name": "stdout",
     "output_type": "stream",
     "text": [
      "Twinkle, twinkle, little star, \n",
      "\tHow I wonder what you are! \n",
      "\t\tUp above the world so high, \n",
      "\t\tLike a diamond in the sky. \n",
      "Twinkle, twinkle, little star, \n",
      "\tHow I wonder what you are!\n"
     ]
    }
   ],
   "source": [
    "print(\"Twinkle, twinkle, little star, \\n\\tHow I wonder what you are! \\n\\t\\tUp above the world so high, \\n\\t\\tLike a diamond in the sky. \\nTwinkle, twinkle, little star, \\n\\tHow I wonder what you are!\")\n"
   ]
  },
  {
   "cell_type": "markdown",
   "id": "daccbe89",
   "metadata": {},
   "source": [
    "# Question 2\n",
    "2. Write a Python program to get the Python version you are using."
   ]
  },
  {
   "cell_type": "code",
   "execution_count": 10,
   "id": "1dc3accb",
   "metadata": {},
   "outputs": [
    {
     "name": "stdout",
     "output_type": "stream",
     "text": [
      "3.8.8 (default, Apr 13 2021, 15:08:03) [MSC v.1916 64 bit (AMD64)]\n",
      "sys.version_info(major=3, minor=8, micro=8, releaselevel='final', serial=0)\n"
     ]
    }
   ],
   "source": [
    "import sys\n",
    "print(sys.version)\n",
    "print(sys.version_info)"
   ]
  },
  {
   "cell_type": "markdown",
   "id": "b6979cac",
   "metadata": {},
   "source": [
    "# Question 3\n",
    " Write a Python program to display the current date and time.\n",
    "Sample Output :\n",
    "Current date and time :\n",
    "2014-07-05 14:34:14"
   ]
  },
  {
   "cell_type": "code",
   "execution_count": 18,
   "id": "060f4c31",
   "metadata": {},
   "outputs": [
    {
     "name": "stdout",
     "output_type": "stream",
     "text": [
      "Now the date and time is \n",
      "2021-08-21 17:38:56\n"
     ]
    }
   ],
   "source": [
    "\n",
    "import datetime\n",
    "t= datetime.datetime.now()\n",
    "print(\"Now the date and time is \")\n",
    "print(now.strftime(\"%Y-%m-%d %H:%M:%S\"))\n"
   ]
  },
  {
   "cell_type": "markdown",
   "id": "4b0fc5b0",
   "metadata": {},
   "source": [
    " # Question 4:\n",
    " Write a Python program which accepts the radius of a circle from the user and compute the area."
   ]
  },
  {
   "cell_type": "code",
   "execution_count": 29,
   "id": "f912569e",
   "metadata": {},
   "outputs": [
    {
     "name": "stdout",
     "output_type": "stream",
     "text": [
      "Enter the Value:1.1\n",
      "Radius= 1.1\n",
      "Area of a circle= 3.8013271108436504\n",
      "Input the radius of the circle : 1.1\n",
      "The area of the circle with radius 1.1 is: 3.8013271108436504\n"
     ]
    }
   ],
   "source": [
    "from math import pi\n",
    "radius = float(input (\"Enter the Value:\"))\n",
    "print('Radius=',radius)\n",
    "Area = pi * (radius * radius)\n",
    "print(\"Area of a circle=\",Area)\n",
    "\n",
    "#or\n",
    "\n",
    "from math import pi\n",
    "r = float(input (\"Input the radius of the circle : \"))\n",
    "print (\"The area of the circle with radius \" + str(r) + \" is: \" + str(pi * r**2))\n"
   ]
  },
  {
   "cell_type": "markdown",
   "id": "365512d8",
   "metadata": {},
   "source": [
    "# Question 5\n",
    "5. Write a Python program which accepts the user's first and last name and print them in reverse order with a space between them"
   ]
  },
  {
   "cell_type": "code",
   "execution_count": 3,
   "id": "4ee0fd45",
   "metadata": {},
   "outputs": [
    {
     "name": "stdout",
     "output_type": "stream",
     "text": [
      "Enter first name=sai\n",
      "Enter Last name=baba\n",
      "Hello baba sai\n"
     ]
    }
   ],
   "source": [
    "First_name = input(\"Enter first name=\")\n",
    "Last_name = input('Enter Last name=')\n",
    "print('Hello ' +Last_name+ ' ' +First_name)"
   ]
  },
  {
   "cell_type": "markdown",
   "id": "0d764410",
   "metadata": {},
   "source": [
    "# Question 6\n",
    "Write a Python program which accepts a sequence of comma-separated numbers from user and generate a list and a tuple with those numbers.\n",
    "Sample data : 3, 5, 7, 23\n",
    "Output :\n",
    "List : ['3', ' 5', ' 7', ' 23']\n",
    "Tuple : ('3', ' 5', ' 7', ' 23')"
   ]
  },
  {
   "cell_type": "markdown",
   "id": "d29346a1",
   "metadata": {},
   "source": [
    "Python list:\n",
    "\n",
    "A list is a container which holds comma separated values (items or elements) between square brackets where items or elements need not all have the same type. In general, we can define a list as an object that contains multiple data items (elements). The contents of a list can be changed during program execution. The size of a list can also change during execution, as elements are added or removed from it.\n",
    "\n",
    "Python tuple:\n",
    "\n",
    "A tuple is container which holds a series of comma separated values (items or elements) between parentheses such as an (x, y) co-ordinate. Tuples are like lists, except they are immutable (i.e. you cannot change its content once created) and can hold mix data types."
   ]
  },
  {
   "cell_type": "code",
   "execution_count": 1,
   "id": "c37245a9",
   "metadata": {},
   "outputs": [
    {
     "name": "stdout",
     "output_type": "stream",
     "text": [
      "Input some comma seprated numbers : 1,2,3,4\n",
      "List :  ['1', '2', '3', '4']\n",
      "Tuple :  ('1', '2', '3', '4')\n"
     ]
    }
   ],
   "source": [
    "values = input(\"Input some comma seprated numbers : \")\n",
    "list = values.split(\",\")\n",
    "tuple = tuple(list)\n",
    "print('List : ',list)\n",
    "print('Tuple : ',tuple)"
   ]
  },
  {
   "cell_type": "markdown",
   "id": "c3247018",
   "metadata": {},
   "source": [
    "# Question 7\n",
    "7. Write a Python program to accept a filename from the user and print the extension of that. Go to the editor\n",
    "Sample filename : abc.java\n",
    "Output : java"
   ]
  },
  {
   "cell_type": "code",
   "execution_count": 11,
   "id": "c8b11326",
   "metadata": {},
   "outputs": [
    {
     "name": "stdout",
     "output_type": "stream",
     "text": [
      "Input the Filename: sai.c\n",
      "The extension of the file is : 'c'\n",
      "extention:'c'\n"
     ]
    }
   ],
   "source": [
    "filename = input(\"Input the Filename: \")\n",
    "s = filename.split(\".\")\n",
    "print (\"The extension of the file is : \" + repr(s[-1]))# -1 is nothing but last word of sentences\n",
    "print(\"extention:\" +repr(s[-1]))#my try chumma..\n",
    "\n",
    "#repr actually calls a magic method __repr__ of x, which gives the string containing \n",
    "#the representation of the value 'foo' assigned to x. So it returns 'foo' inside the \n",
    "#string \"\" resulting in \"'foo'\". The idea of repr is to give a string which \n",
    "#contains a series of symbols which we can type in the interpreter and get the same\n",
    "#value which was sent as an argument to repr.\n",
    "\n",
    "#Use of repr() is explained here.\n",
    "#The repr() function returns a printable representation of the given object.\n",
    "#split() method will split the string on the occurrence of . and you will\n",
    "#be getting an list type of object as a result. You can check that by type(f_extns) which is <class 'list'>.\n",
    "#As extensions are after dot for retrieving last element of the list\n",
    "#by using negative index f_extns[-1] or you can use f_extns[len(f_extns) - 1].'''\n",
    "\n",
    "\n"
   ]
  },
  {
   "cell_type": "markdown",
   "id": "d3f3e238",
   "metadata": {},
   "source": [
    "# Question 8\n",
    "8. Write a Python program to display the first and last colors from the following list. \n",
    "color_list = [\"Red\",\"Green\",\"White\" ,\"Black\"]"
   ]
  },
  {
   "cell_type": "code",
   "execution_count": 33,
   "id": "fc36c2b0",
   "metadata": {},
   "outputs": [
    {
     "name": "stdout",
     "output_type": "stream",
     "text": [
      "['r', 'b', 'g', 'w', 'B']\n",
      "('r', 'B')\n",
      "r B\n",
      "r B\n"
     ]
    }
   ],
   "source": [
    "color_list = [\"r\",\"b\",\"g\",\"w\",\"B\"]\n",
    "print(color_list)\n",
    "q=(color_list[0],color_list[-1])\n",
    "print(q)\n",
    "print(\"%s %s\"%q)\n",
    "#or\n",
    "print( \"%s %s\"%(color_list[0],color_list[-1]))"
   ]
  },
  {
   "cell_type": "markdown",
   "id": "2af6ce98",
   "metadata": {},
   "source": [
    "# Question 9\n",
    "9. Write a Python program to display the examination schedule. (extract the date from exam_st_date). \n",
    "exam_st_date = (11, 12, 2014)\n",
    "Sample Output : The examination will start from : 11 / 12 / 2014"
   ]
  },
  {
   "cell_type": "code",
   "execution_count": 5,
   "id": "38b477b8",
   "metadata": {},
   "outputs": [
    {
     "name": "stdout",
     "output_type": "stream",
     "text": [
      "The examination will start from: 11 / 12 / 2014\n"
     ]
    }
   ],
   "source": [
    "exam_date =(11,12,2014)\n",
    "print(\"The examination will start from: %i / %i / %i\" %exam_date)"
   ]
  },
  {
   "cell_type": "markdown",
   "id": "9b0205ee",
   "metadata": {},
   "source": [
    "# Question 10\n",
    "10. Write a Python program that accepts an integer (n) and computes the value of n+nn+nnn. \n",
    "Sample value of n is 5\n",
    "Expected Result : 615"
   ]
  },
  {
   "cell_type": "code",
   "execution_count": 27,
   "id": "c25e7d52",
   "metadata": {},
   "outputs": [
    {
     "name": "stdout",
     "output_type": "stream",
     "text": [
      "enter the number1:3\n",
      "enter the 2nd num:33\n",
      "enter the 3rd num:333\n",
      "sum= 369\n",
      "Enter a num: 4\n",
      "492\n",
      "Enter a num: 5\n",
      "615\n"
     ]
    }
   ],
   "source": [
    "a= int(input(\"enter the number1:\"))\n",
    "b =int(input(\"enter the 2nd num:\"))\n",
    "c =int(input(\"enter the 3rd num:\"))\n",
    "print(\"sum=\", a+b+c)\n",
    "\n",
    "#or\n",
    "a=int(input(\"Enter a num: \"))\n",
    "n1 = int(\"%s\"% a) #%s\n",
    "n2 = int( \"%s%s\" % (a,a))\n",
    "n3 = int( \"%s%s%s\" % (a,a,a) )\n",
    "sum = n1+n2 +n3\n",
    "print(sum)\n",
    "\n",
    "#or\n",
    "\n",
    "a=int(input(\"Enter a num: \"))\n",
    "n1 = int(\"%i\"% a) #%i\n",
    "n2 = int( \"%i%i\" % (a,a))\n",
    "n3 = int( \"%i%i%i\" % (a,a,a) )\n",
    "sum = n1+n2 +n3\n",
    "print(sum)\n",
    "                 "
   ]
  },
  {
   "cell_type": "markdown",
   "id": "997e1484",
   "metadata": {},
   "source": [
    "# Question 11\n",
    "11. Write a Python program to print the documents (syntax, description etc.) of Python built-in function(s).\n",
    "Sample function : abs()\n",
    "Expected Result :\n",
    "abs(number) -> number\n",
    "Return the absolute value of the argument.\n",
    "\n",
    "# About Docstring\n",
    "Python Docstring:\n",
    "\n",
    "A docstring is a string literal that occurs as the first statement in a module, function, class, or method definition. Such a docstring becomes the __doc__ special attribute of that object.\n",
    "\n",
    "All modules should normally have docstrings, and all functions and classes exported by a module should also have docstrings. Public methods (including the __init__ constructor) should also have docstrings."
   ]
  },
  {
   "cell_type": "code",
   "execution_count": 34,
   "id": "67e57207",
   "metadata": {},
   "outputs": [
    {
     "name": "stdout",
     "output_type": "stream",
     "text": [
      "1\n",
      "Return the absolute value of the argument.\n"
     ]
    }
   ],
   "source": [
    "a=-1\n",
    "print(abs(a))\n",
    "print(abs.__doc__)"
   ]
  },
  {
   "cell_type": "markdown",
   "id": "4a58e1da",
   "metadata": {},
   "source": [
    "# Question 12\n",
    "12. Write a Python program to print the calendar of a given month and year.\n",
    "Note : Use 'calendar' module."
   ]
  },
  {
   "cell_type": "code",
   "execution_count": 43,
   "id": "e5e68e2a",
   "metadata": {},
   "outputs": [
    {
     "name": "stdout",
     "output_type": "stream",
     "text": [
      "enter the year: 1972\n",
      "enter the month: 1\n",
      "    January 1972\n",
      "Mo Tu We Th Fr Sa Su\n",
      "                1  2\n",
      " 3  4  5  6  7  8  9\n",
      "10 11 12 13 14 15 16\n",
      "17 18 19 20 21 22 23\n",
      "24 25 26 27 28 29 30\n",
      "31\n",
      "\n"
     ]
    }
   ],
   "source": [
    "import calendar\n",
    "year=input(\"enter the year: \")\n",
    "month=input(\"enter the month: \")\n",
    "print(calendar.month (int(year),int(month)))"
   ]
  },
  {
   "cell_type": "markdown",
   "id": "38bd4666",
   "metadata": {},
   "source": [
    "# Question 13\n",
    "13. Write a Python program to print the following 'here document'\n",
    "Sample string :\n",
    "a string that you \"don't\" have to escape\n",
    "This\n",
    "is a ....... multi-line\n",
    "heredoc string --------> example"
   ]
  },
  {
   "cell_type": "code",
   "execution_count": 44,
   "id": "401c0e18",
   "metadata": {},
   "outputs": [
    {
     "name": "stdout",
     "output_type": "stream",
     "text": [
      "\n",
      "Sample string :\n",
      "a string that you \"don't\" have to escape\n",
      "This\n",
      "is a ....... multi-line\n",
      "heredoc string -------->\n"
     ]
    }
   ],
   "source": [
    "print('''\n",
    "Sample string :\n",
    "a string that you \"don't\" have to escape\n",
    "This\n",
    "is a ....... multi-line\n",
    "heredoc string -------->''')"
   ]
  },
  {
   "cell_type": "markdown",
   "id": "86ab30d1",
   "metadata": {},
   "source": [
    "# Question 14\n",
    "14. Write a Python program to calculate number of days between two dates.\n",
    "Sample dates : (2014, 7, 2), (2014, 7, 11)\n",
    "Expected output : 9 days"
   ]
  },
  {
   "cell_type": "code",
   "execution_count": 49,
   "id": "491a5aba",
   "metadata": {},
   "outputs": [
    {
     "name": "stdout",
     "output_type": "stream",
     "text": [
      "9 days, 0:00:00\n"
     ]
    }
   ],
   "source": [
    "import datetime\n",
    "first_date = datetime.date(2014, 7, 2)\n",
    "last_date = datetime.date(2014, 7, 11)\n",
    "d =  last_date - first_date \n",
    "print(d)"
   ]
  },
  {
   "cell_type": "markdown",
   "id": "df0122ae",
   "metadata": {},
   "source": [
    "# Question 15\n",
    "15. Write a Python program to get the volume of a sphere with radius 6."
   ]
  },
  {
   "cell_type": "code",
   "execution_count": 52,
   "id": "8a124543",
   "metadata": {},
   "outputs": [
    {
     "name": "stdout",
     "output_type": "stream",
     "text": [
      "enter the radius: 6\n",
      "904.7786842338603\n"
     ]
    }
   ],
   "source": [
    "from math import pi\n",
    "#The volume of the sphere is : V = 4/3 × π × r3 = π × d3/6. formula\n",
    "r = int(input(\"enter the radius: \"))\n",
    "v_sphere = (4/3 * pi * (r*r*r))\n",
    "print(v_sphere)"
   ]
  },
  {
   "cell_type": "markdown",
   "id": "3f5080e6",
   "metadata": {},
   "source": [
    "# QUESTION 16\n",
    "16. Write a Python program to get the difference between a given number and 17, if the number is greater than 17 return double the absolute difference"
   ]
  },
  {
   "cell_type": "code",
   "execution_count": 72,
   "id": "7863c53c",
   "metadata": {},
   "outputs": [
    {
     "name": "stdout",
     "output_type": "stream",
     "text": [
      "enter the num:25\n",
      "difference of n1 and n2 is  8\n",
      "n1 is greater than n2\n",
      "16\n"
     ]
    }
   ],
   "source": [
    "n1=int(input(\"enter the num:\"))\n",
    "n2=17\n",
    "n3=n1-n2\n",
    "print(\"difference of n1 and n2 is \",n3)\n",
    "if n1>n2:\n",
    "    print(\"n1 is greater than n2\")\n",
    "    print(abs(n3*2))\n",
    "else:\n",
    "    print(\"n2 is lesser than n1\")\n",
    "    \n",
    "\n"
   ]
  },
  {
   "cell_type": "code",
   "execution_count": 73,
   "id": "efc4d638",
   "metadata": {},
   "outputs": [
    {
     "name": "stdout",
     "output_type": "stream",
     "text": [
      "16\n",
      "15\n"
     ]
    }
   ],
   "source": [
    "#another method\n",
    "def number(n):\n",
    "    if n >= 17:\n",
    "        return abs(n-17)*2\n",
    "        \n",
    "    else:\n",
    "        return (17-n)\n",
    "        \n",
    "print(number(25))\n",
    "print(number(2))"
   ]
  },
  {
   "cell_type": "markdown",
   "id": "74c5ce39",
   "metadata": {},
   "source": [
    "# Question 17\n",
    "17. Write a Python program to test whether a number is within 100 of 1000 or 2000."
   ]
  },
  {
   "cell_type": "code",
   "execution_count": 81,
   "id": "03b99241",
   "metadata": {},
   "outputs": [
    {
     "name": "stdout",
     "output_type": "stream",
     "text": [
      "True\n",
      "True\n",
      "False\n"
     ]
    }
   ],
   "source": [
    "def number(n):\n",
    "    return ((abs(1000-n)<= 100) or (abs(2000-n)<=100))\n",
    "\n",
    "print(number(900))\n",
    "print(number(1900))\n",
    "print(number(33))\n"
   ]
  },
  {
   "cell_type": "markdown",
   "id": "38e6aac5",
   "metadata": {},
   "source": [
    "# Question 18\n",
    "18. Write a Python program to calculate the sum of three given numbers, if the values are equal then return three times of their sum"
   ]
  },
  {
   "cell_type": "code",
   "execution_count": 111,
   "id": "060a3d75",
   "metadata": {},
   "outputs": [
    {
     "name": "stdout",
     "output_type": "stream",
     "text": [
      "enter num1: 2\n",
      "enter num2: 3\n",
      "enter num3: 4\n",
      "sum:  9\n",
      "not equal\n"
     ]
    }
   ],
   "source": [
    "n1=int(input(\"enter num1: \"))\n",
    "n2=int(input(\"enter num2: \"))\n",
    "n3=int(input(\"enter num3: \"))\n",
    "s =n1+n2+n3\n",
    "print(\"sum: \", s)\n",
    "if n1 == n2 == n3:\n",
    "    print(\"there are same so:\",s * 3)\n",
    "else:\n",
    "    print(\"not equal\")\n",
    "    \n"
   ]
  },
  {
   "cell_type": "code",
   "execution_count": 114,
   "id": "a4c4558d",
   "metadata": {},
   "outputs": [
    {
     "name": "stdout",
     "output_type": "stream",
     "text": [
      "9\n",
      "27\n"
     ]
    }
   ],
   "source": [
    "#meth 2\n",
    "def numbers(x,y,z):\n",
    "    su = x + y + z\n",
    "   \n",
    "    if x == y == z:\n",
    "        su = su * 3\n",
    "    return su\n",
    "\n",
    "print(numbers(2, 3, 4))\n",
    "print(numbers(3, 3, 3))"
   ]
  },
  {
   "cell_type": "markdown",
   "id": "7d48f2c6",
   "metadata": {},
   "source": [
    "# Question 19\n",
    "19. Write a Python program to get a new string from a given string where \"Is\" has been added to the front. If the given string already begins with \"Is\" then return the string unchanged. "
   ]
  },
  {
   "cell_type": "code",
   "execution_count": 124,
   "id": "7a8b19e6",
   "metadata": {},
   "outputs": [
    {
     "name": "stdout",
     "output_type": "stream",
     "text": [
      "IsArray\n",
      "IsEmpty\n"
     ]
    }
   ],
   "source": [
    "def new_string(str):\n",
    "  if len(str) >= 2 and str[:2] == \"Is\":\n",
    "    return str\n",
    "  return \"Is\" + str\n",
    "\n",
    "print(new_string(\"Array\"))\n",
    "print(new_string(\"IsEmpty\"))"
   ]
  },
  {
   "cell_type": "code",
   "execution_count": 129,
   "id": "3fbfe50c",
   "metadata": {},
   "outputs": [
    {
     "name": "stdout",
     "output_type": "stream",
     "text": [
      "IsArray\n",
      "IsEmpty\n",
      "IsD\n"
     ]
    }
   ],
   "source": [
    "def newstr(str):\n",
    "    if str[:2] == \"Is\":\n",
    "        return str\n",
    "    return \"Is\" + str\n",
    "print(new_string(\"Array\"))\n",
    "print(new_string(\"IsEmpty\"))\n",
    "print(new_string(\"D\"))"
   ]
  },
  {
   "cell_type": "markdown",
   "id": "e03ba113",
   "metadata": {},
   "source": [
    "# QUESTION 20\n",
    "20. Write a Python program to get a string which is n (non-negative integer) copies of a given string."
   ]
  },
  {
   "cell_type": "code",
   "execution_count": 130,
   "id": "d395aae2",
   "metadata": {},
   "outputs": [
    {
     "name": "stdout",
     "output_type": "stream",
     "text": [
      "abcabc\n",
      ".py.py.py\n"
     ]
    }
   ],
   "source": [
    "def larger_string(str, n):\n",
    "   result = \"\"\n",
    "   for i in range(n):\n",
    "      result = result + str\n",
    "   return result\n",
    "\n",
    "print(larger_string('abc', 2))\n",
    "print(larger_string('.py', 3))"
   ]
  },
  {
   "cell_type": "markdown",
   "id": "a2f32d97",
   "metadata": {},
   "source": [
    "# Question 21\n",
    ". Write a Python program to find whether a given number (accept from the user) is even or odd, print out an appropriate message to the user"
   ]
  },
  {
   "cell_type": "code",
   "execution_count": 134,
   "id": "55b02c2b",
   "metadata": {},
   "outputs": [
    {
     "name": "stdout",
     "output_type": "stream",
     "text": [
      "even\n",
      "None\n",
      "odd\n",
      "None\n"
     ]
    }
   ],
   "source": [
    "def prime_num(num):\n",
    "    if (num >0) and num% 2 == 0:\n",
    "        print('even')\n",
    "    else:\n",
    "        print('odd')\n",
    "print(prime_num(2))\n",
    "print(prime_num(3))"
   ]
  },
  {
   "cell_type": "markdown",
   "id": "e68e805d",
   "metadata": {},
   "source": [
    "# Question 22\n",
    " Write a Python program to count the number 4 in a given list. "
   ]
  },
  {
   "cell_type": "code",
   "execution_count": 155,
   "id": "7557bf9e",
   "metadata": {},
   "outputs": [
    {
     "name": "stdout",
     "output_type": "stream",
     "text": [
      "5\n",
      "3\n"
     ]
    }
   ],
   "source": [
    "list=([1,2,3,4,4,3,2,4,2,5,6,4,5,5,6,7,1,2,4,7])\n",
    "count = 0\n",
    "for num in list:\n",
    "    if num == 4:\n",
    "        count = count +1\n",
    "print(count)\n",
    "\n",
    "#another method\n",
    "\n",
    "def l_num(nums):\n",
    "    count = 0\n",
    "    for num in nums:\n",
    "        if num==4:\n",
    "            count = count +1\n",
    "    return count\n",
    "print(l_num([1,2,3,4,4,3,4,3]))\n",
    "\n"
   ]
  },
  {
   "cell_type": "markdown",
   "id": "6dcc2418",
   "metadata": {},
   "source": [
    "# Question 23\n",
    "Write a Python program to get the n (non-negative integer) copies of the first 2 characters of a given string. Return the n copies of the whole string if the length is less than 2."
   ]
  },
  {
   "cell_type": "code",
   "execution_count": 169,
   "id": "52639c59",
   "metadata": {},
   "outputs": [
    {
     "name": "stdout",
     "output_type": "stream",
     "text": [
      "abab\n"
     ]
    }
   ],
   "source": [
    "\n",
    "def substrs(str,n):\n",
    "    flen = 2\n",
    "    if flen > len(str):\n",
    "        flen = len(str)\n",
    "    substr = str[:flen]\n",
    "    \n",
    "    result = \"\"\n",
    "    for i in range(n):\n",
    "        result = result + substr\n",
    "    return result\n",
    "print(substrs('abcdef', 2))\n"
   ]
  },
  {
   "cell_type": "markdown",
   "id": "218d1941",
   "metadata": {},
   "source": [
    "# Question 24\n",
    "Write a Python program to test whether a passed letter is a vowel or not"
   ]
  },
  {
   "cell_type": "code",
   "execution_count": 172,
   "id": "feb2debb",
   "metadata": {},
   "outputs": [
    {
     "name": "stdout",
     "output_type": "stream",
     "text": [
      "enter the word: e\n",
      "It is vowel\n"
     ]
    }
   ],
   "source": [
    "vow= input(\"enter the word: \")\n",
    "vowel = (['a','e','i','o','u'])\n",
    "if vow in vowel:\n",
    "    print(\"It is vowel\")\n",
    "else:\n",
    "    print(\"Its not a vowel\")\n"
   ]
  },
  {
   "cell_type": "code",
   "execution_count": 186,
   "id": "42993dad",
   "metadata": {},
   "outputs": [
    {
     "name": "stdout",
     "output_type": "stream",
     "text": [
      "Yes, its a vowel!!!\n",
      "None\n"
     ]
    }
   ],
   "source": [
    "#another method\n",
    "def vow(char):\n",
    "    vowel = 'aeiou'\n",
    "    if char in vowel:\n",
    "        print(\"Yes, its a vowel!!!\")\n",
    "    else:\n",
    "        print(\"not a vowel!\")\n",
    "print(vow('a'))\n",
    "\n"
   ]
  },
  {
   "cell_type": "code",
   "execution_count": 1,
   "id": "4ca3dde5",
   "metadata": {},
   "outputs": [
    {
     "name": "stdout",
     "output_type": "stream",
     "text": [
      "False\n",
      "True\n"
     ]
    }
   ],
   "source": [
    "#another method;\n",
    "def is_vowel(char):\n",
    "    all_vowels = 'aeiou'\n",
    "    return char in all_vowels\n",
    "print(is_vowel('c'))\n",
    "print(is_vowel('e'))\n"
   ]
  },
  {
   "cell_type": "markdown",
   "id": "ea17de80",
   "metadata": {},
   "source": [
    "# Question 25\n",
    "rite a Python program to check whether a specified value is contained in a group of values. \n",
    "Test Data :\n",
    "3 -> [1, 5, 8, 3] : True\n",
    "-1 -> [1, 5, 8, 3] : False"
   ]
  },
  {
   "cell_type": "code",
   "execution_count": 188,
   "id": "d91d4231",
   "metadata": {},
   "outputs": [
    {
     "name": "stdout",
     "output_type": "stream",
     "text": [
      "True\n",
      "False\n"
     ]
    }
   ],
   "source": [
    "def group_member(group_data, n):\n",
    "   for value in group_data:\n",
    "       if n == value:\n",
    "           return True\n",
    "   return False\n",
    "print(group_member([1, 5, 8, 3], 3))\n",
    "print(group_member([5, 8, 3], -1))\n"
   ]
  },
  {
   "cell_type": "markdown",
   "id": "9367b219",
   "metadata": {},
   "source": [
    "# Question 26\n",
    " Write a Python program to create a histogram from a given list of integers."
   ]
  },
  {
   "cell_type": "code",
   "execution_count": 3,
   "id": "1bd8d0dc",
   "metadata": {},
   "outputs": [
    {
     "name": "stdout",
     "output_type": "stream",
     "text": [
      "**\n",
      "***\n",
      "******\n",
      "*****\n"
     ]
    }
   ],
   "source": [
    "def histogram( items ):\n",
    "    for n in items:\n",
    "        output = ''\n",
    "        times = n\n",
    "        while( times > 0 ):\n",
    "          output += '*'\n",
    "          times = times - 1\n",
    "        print(output)\n",
    "\n",
    "histogram([2, 3, 6, 5])"
   ]
  },
  {
   "cell_type": "markdown",
   "id": "afc678da",
   "metadata": {},
   "source": [
    "# Question 27\n",
    " Write a Python program to concatenate all elements in a list into a string and return it."
   ]
  },
  {
   "cell_type": "code",
   "execution_count": 4,
   "id": "16f1e53e",
   "metadata": {},
   "outputs": [
    {
     "name": "stdout",
     "output_type": "stream",
     "text": [
      "15122\n"
     ]
    }
   ],
   "source": [
    "def concatenate_list_data(list):\n",
    "    result= ''\n",
    "    for element in list:\n",
    "        result += str(element)\n",
    "    return result\n",
    "\n",
    "print(concatenate_list_data([1, 5, 12, 2]))"
   ]
  },
  {
   "cell_type": "markdown",
   "id": "608e607a",
   "metadata": {},
   "source": [
    "# Question 28\n",
    "Write a Python program to print all even numbers from a given numbers list in the same order and stop the printing if any numbers that come after 237 in the sequence. Go to the editor\n",
    "Sample numbers list :\n",
    "\n",
    "numbers = [    \n",
    "    386, 462, 47, 418, 907, 344, 236, 375, 823, 566, 597, 978, 328, 615, 953, 345, \n",
    "    399, 162, 758, 219, 918, 237, 412, 566, 826, 248, 866, 950, 626, 949, 687, 217, \n",
    "    815, 67, 104, 58, 512, 24, 892, 894, 767, 553, 81, 379, 843, 831, 445, 742, 717, \n",
    "    958,743, 527\n",
    "    ]"
   ]
  },
  {
   "cell_type": "code",
   "execution_count": 5,
   "id": "706cd42b",
   "metadata": {},
   "outputs": [
    {
     "name": "stdout",
     "output_type": "stream",
     "text": [
      "386\n",
      "462\n",
      "418\n",
      "344\n",
      "236\n",
      "566\n",
      "978\n",
      "328\n",
      "162\n",
      "758\n",
      "918\n",
      "237\n"
     ]
    }
   ],
   "source": [
    "numbers = [    \n",
    "    386, 462, 47, 418, 907, 344, 236, 375, 823, 566, 597, 978, 328, 615, 953, 345, \n",
    "    399, 162, 758, 219, 918, 237, 412, 566, 826, 248, 866, 950, 626, 949, 687, 217, \n",
    "    815, 67, 104, 58, 512, 24, 892, 894, 767, 553, 81, 379, 843, 831, 445, 742, 717, \n",
    "    958,743, 527\n",
    "    ]\n",
    "\n",
    "for x in numbers:\n",
    "    if x == 237:\n",
    "        print(x)\n",
    "        break;\n",
    "    elif x % 2 == 0:\n",
    "        print(x)\n"
   ]
  },
  {
   "cell_type": "markdown",
   "id": "f1b73a6f",
   "metadata": {},
   "source": [
    "# Question 29\n",
    "Write a Python program to print out a set containing all the colors from color_list_1 which are not present in color_list_2.\n",
    "Test Data :\n",
    "color_list_1 = set([\"White\", \"Black\", \"Red\"])\n",
    "color_list_2 = set([\"Red\", \"Green\"])\n",
    "Expected Output :\n",
    "{'Black', 'White'}"
   ]
  },
  {
   "cell_type": "code",
   "execution_count": 13,
   "id": "8dc4788d",
   "metadata": {},
   "outputs": [
    {
     "name": "stdout",
     "output_type": "stream",
     "text": [
      "all are not there\n",
      "{'blue'}\n"
     ]
    }
   ],
   "source": [
    "colorlist1 = set([\"Red\", \"Green\", \"blue\"])\n",
    "colorlist2 = set([\"Red\", \"Green\"])\n",
    "if colorlist1 == colorlist2:\n",
    "    print(\"all are there\")\n",
    "else:\n",
    "    print(\"all are not there\")\n",
    "    print(colorlist1.difference(colorlist2))\n"
   ]
  },
  {
   "cell_type": "markdown",
   "id": "c55e363f",
   "metadata": {},
   "source": [
    "# Quetsion 30\n",
    " Write a Python program that will accept the base and height of a triangle and compute the area."
   ]
  },
  {
   "cell_type": "code",
   "execution_count": 3,
   "id": "9ca5bab3",
   "metadata": {},
   "outputs": [
    {
     "name": "stdout",
     "output_type": "stream",
     "text": [
      "Input the base : 2\n",
      "Input the height : 3\n",
      "area =  3.0\n"
     ]
    }
   ],
   "source": [
    "b = int(input(\"Input the base : \"))\n",
    "h = int(input(\"Input the height : \"))\n",
    "\n",
    "area = b*h/2\n",
    "\n",
    "print(\"area = \", area)"
   ]
  },
  {
   "cell_type": "code",
   "execution_count": 5,
   "id": "4cb1e39d",
   "metadata": {},
   "outputs": [
    {
     "name": "stdout",
     "output_type": "stream",
     "text": [
      "enter the num1: 2\n",
      "Enter the num2: 3\n",
      "3.0\n"
     ]
    }
   ],
   "source": [
    "h= int(input(\"enter the num1: \"))\n",
    "b= int(input(\"Enter the num2: \"))\n",
    "tri = (1/2)*(b*h)\n",
    "print(tri)"
   ]
  },
  {
   "cell_type": "markdown",
   "id": "50e174fe",
   "metadata": {},
   "source": [
    "# Exercise using string\n",
    "# Question 31\n",
    "\n",
    "1. Write a Python program to calculate the length of a string"
   ]
  },
  {
   "cell_type": "code",
   "execution_count": 9,
   "id": "5e1e53d5",
   "metadata": {},
   "outputs": [
    {
     "name": "stdout",
     "output_type": "stream",
     "text": [
      "4\n",
      "7\n"
     ]
    }
   ],
   "source": [
    "st=[\"sadhu\", \"sai\", \"baba\", \"hm\"]\n",
    "print(len(st))\n",
    "\n",
    "#or\n",
    "# character present in strings\n",
    "def st(string):\n",
    "    count =0\n",
    "    for char in string:\n",
    "        count += 1\n",
    "    return count\n",
    "print(st(\"saibaba\"))"
   ]
  },
  {
   "cell_type": "markdown",
   "id": "177e81c0",
   "metadata": {},
   "source": [
    "# Question 32\n",
    "Write a Python program to count the number of characters (character frequency) in a string.\n",
    "Sample String : google.com'\n",
    "Expected Result : {'g': 2, 'o': 3, 'l': 1, 'e': 1, '.': 1, 'c': 1, 'm': 1}"
   ]
  },
  {
   "cell_type": "code",
   "execution_count": 10,
   "id": "cedea1d9",
   "metadata": {},
   "outputs": [
    {
     "name": "stdout",
     "output_type": "stream",
     "text": [
      "{'g': 2, 'o': 3, 'l': 1, 'e': 1, '.': 1, 'c': 1, 'm': 1}\n"
     ]
    }
   ],
   "source": [
    "def char_frequency(str1):\n",
    "    dict = {}\n",
    "    for n in str1:\n",
    "        keys = dict.keys()\n",
    "        if n in keys:\n",
    "            dict[n] += 1\n",
    "        else:\n",
    "            dict[n] = 1\n",
    "    return dict\n",
    "print(char_frequency('google.com'))"
   ]
  },
  {
   "cell_type": "markdown",
   "id": "7e15cf0e",
   "metadata": {},
   "source": [
    "# Question 33\n",
    "Write a Python program to get a string made of the first 2 and the last 2 chars from a given a string. If the string length is less than 2, return instead of the empty string. Go to the editor\n",
    "Sample String : 'w3resource'\n",
    "Expected Result : 'w3ce'\n",
    "Sample String : 'w3'\n",
    "Expected Result : 'w3w3'\n",
    "Sample String : ' w'\n",
    "Expected Result : Empty String"
   ]
  },
  {
   "cell_type": "code",
   "execution_count": 25,
   "id": "f49fb4b3",
   "metadata": {},
   "outputs": [
    {
     "name": "stdout",
     "output_type": "stream",
     "text": [
      "hehi\n",
      "saba\n",
      " \n"
     ]
    }
   ],
   "source": [
    "def st(string):\n",
    "    if len(string) < 2:\n",
    "        return ' '\n",
    "    else:\n",
    "        return string[:2] + string[-2:]\n",
    "              \n",
    "print(st(\"hello hi\"))\n",
    "print(st(\"saibaba\"))\n",
    "print(st(\"h\"))"
   ]
  },
  {
   "cell_type": "markdown",
   "id": "69f0b93f",
   "metadata": {},
   "source": [
    "# Question 34\n",
    "Write a Python program to get a single string from two given strings, separated by a space and swap the first two characters of each string. Go to the editor\n",
    "Sample String : 'abc', 'xyz'\n",
    "Expected Result : 'xyc abz'"
   ]
  },
  {
   "cell_type": "code",
   "execution_count": 35,
   "id": "6826a021",
   "metadata": {},
   "outputs": [
    {
     "name": "stdout",
     "output_type": "stream",
     "text": [
      "xyc abz\n"
     ]
    }
   ],
   "source": [
    "def chars_mix_up(a, b):\n",
    "  new_a = b[:2] + a[2:]\n",
    "  new_b = a[:2] + b[2:]\n",
    "\n",
    "  return new_a + ' ' + new_b\n",
    "print(chars_mix_up('abc', 'xyz'))"
   ]
  },
  {
   "cell_type": "markdown",
   "id": "9ced6a10",
   "metadata": {},
   "source": [
    "# Question 35\n",
    "Write a Python program to determine whether a given year is a leap year."
   ]
  },
  {
   "cell_type": "code",
   "execution_count": 39,
   "id": "bfc27099",
   "metadata": {},
   "outputs": [
    {
     "name": "stdout",
     "output_type": "stream",
     "text": [
      "Enter the years: 2000\n",
      "2000\n",
      "its a leapyear\n",
      "its a leap year\n",
      "not a leapyear\n"
     ]
    }
   ],
   "source": [
    "leapyear = int(input(\"Enter the years: \"))\n",
    "print(leapyear)\n",
    "if leapyear % 4==0 and leapyear % 100 == 0 and leapyear % 400 ==0:\n",
    "    print(\"its a leapyear\")\n",
    "else:\n",
    "    print(\"not a leapyear\")\n",
    "    \n",
    "# def method\n",
    "\n",
    "def leapyear(num):\n",
    "    n = \"not a leapyear\"\n",
    "    s = \"its a leap year\"\n",
    "    if num % 4 == 0 and num % 100 == 0 and num % 400 ==0:\n",
    "        return s\n",
    "    else:\n",
    "        return n\n",
    "print(leapyear(2000))\n",
    "print(leapyear(2001))"
   ]
  },
  {
   "cell_type": "markdown",
   "id": "67cea31e",
   "metadata": {},
   "source": [
    "# QUESTION 36\n",
    "Write a Python program to calculate the sum of a list of numbers."
   ]
  },
  {
   "cell_type": "code",
   "execution_count": 1,
   "id": "02b97a0c",
   "metadata": {},
   "outputs": [
    {
     "name": "stdout",
     "output_type": "stream",
     "text": [
      "24\n"
     ]
    }
   ],
   "source": [
    "def list_sum(num_List):\n",
    "    if len(num_List) == 1:\n",
    "        return num_List[0]\n",
    "    else:\n",
    "        return num_List[0] + list_sum(num_List[1:])\n",
    "        \n",
    "print(list_sum([2, 4, 5, 6, 7]))\n"
   ]
  },
  {
   "cell_type": "markdown",
   "id": "15706afd",
   "metadata": {},
   "source": [
    "# Question 37\n",
    " Write a Python program to get the factorial of a non-negative integer."
   ]
  },
  {
   "cell_type": "code",
   "execution_count": 2,
   "id": "8c6de62b",
   "metadata": {},
   "outputs": [
    {
     "name": "stdout",
     "output_type": "stream",
     "text": [
      "120\n"
     ]
    }
   ],
   "source": [
    "def factorial(n):\n",
    "  if n <= 1:\n",
    "    return 1\n",
    "  else:\n",
    "    return n * (factorial(n - 1))\n",
    "    \n",
    "print(factorial(5))"
   ]
  },
  {
   "cell_type": "markdown",
   "id": "8af44136",
   "metadata": {},
   "source": [
    "# Question 38\n",
    "Write a Python program to solve the Fibonacci sequence using recursion"
   ]
  },
  {
   "cell_type": "code",
   "execution_count": 3,
   "id": "c5709216",
   "metadata": {},
   "outputs": [
    {
     "name": "stdout",
     "output_type": "stream",
     "text": [
      "13\n"
     ]
    }
   ],
   "source": [
    "def fibonacci(n):\n",
    "  if n == 1 or n == 2:\n",
    "    return 1\n",
    "  else:\n",
    "    return (fibonacci(n - 1) + (fibonacci(n - 2)))\n",
    "\n",
    "print(fibonacci(7))"
   ]
  },
  {
   "cell_type": "markdown",
   "id": "e199c982",
   "metadata": {},
   "source": [
    "# Question 39\n",
    "Write a Python program to get the sum of a non-negative integer. Go to the editor\n",
    "Test Data:\n",
    "sumDigits(345) -> 12\n",
    "sumDigits(45) -> 9"
   ]
  },
  {
   "cell_type": "code",
   "execution_count": 4,
   "id": "bcce8169",
   "metadata": {},
   "outputs": [
    {
     "name": "stdout",
     "output_type": "stream",
     "text": [
      "12\n",
      "9\n"
     ]
    }
   ],
   "source": [
    "def sumDigits(n):\n",
    "  if n == 0:\n",
    "    return 0\n",
    "  else:\n",
    "    return n % 10 + sumDigits(int(n / 10))\n",
    "\n",
    "print(sumDigits(345))\n",
    "print(sumDigits(45))"
   ]
  },
  {
   "cell_type": "markdown",
   "id": "ed2b5be6",
   "metadata": {},
   "source": [
    "# Question 40\n",
    "Write a Python program to calculate the value of 'a' to the power 'b'. Go to the editor\n",
    "Test Data :\n",
    "(power(3,4) -> 81"
   ]
  },
  {
   "cell_type": "code",
   "execution_count": 5,
   "id": "20c24730",
   "metadata": {},
   "outputs": [
    {
     "name": "stdout",
     "output_type": "stream",
     "text": [
      "81\n"
     ]
    }
   ],
   "source": [
    "def power(a,b):\n",
    "    if b==0:\n",
    "        return 1\n",
    "    elif a==0:\n",
    "        return 0\n",
    "    elif b==1:\n",
    "        return a\n",
    "    else:\n",
    "        return a*power(a,b-1)\n",
    "\n",
    "print(power(3,4))"
   ]
  },
  {
   "cell_type": "markdown",
   "id": "b210c4e7",
   "metadata": {},
   "source": [
    "# QUESTION 41\n",
    "Write a Python program to find  the greatest common divisor (gcd) of two integers. "
   ]
  },
  {
   "cell_type": "code",
   "execution_count": 7,
   "id": "f908c8e6",
   "metadata": {},
   "outputs": [
    {
     "name": "stdout",
     "output_type": "stream",
     "text": [
      "2\n"
     ]
    }
   ],
   "source": [
    "def Recurgcd(a, b):\n",
    "    low = min(a, b)\n",
    "    high = max(a, b)\n",
    "    \n",
    "    if low == 0:\n",
    "        return high\n",
    "    elif low == 1:\n",
    "        return 1\n",
    "    else:\n",
    "        return Recurgcd(low, high%low)\n",
    "print(Recurgcd(12,14))\n"
   ]
  },
  {
   "cell_type": "markdown",
   "id": "b560139c",
   "metadata": {},
   "source": [
    "# Question 42\n",
    " Write a Python program to calculate the harmonic sum of n-1. Go to the editor\n",
    "Note: The harmonic sum is the sum of reciprocals of the positive integers.\n",
    "Example : 1/2, 2/3, 4/5\n",
    "harmonic series\n",
    "\n",
    "# The harmonic sum is the sum of reciprocals of the positive integers."
   ]
  },
  {
   "cell_type": "code",
   "execution_count": 9,
   "id": "bca6ff99",
   "metadata": {},
   "outputs": [
    {
     "name": "stdout",
     "output_type": "stream",
     "text": [
      "2.5928571428571425\n",
      "2.083333333333333\n"
     ]
    }
   ],
   "source": [
    "def harmonic_sum(n):\n",
    "  if n < 2:\n",
    "    return 1\n",
    "  else:\n",
    "    return 1 / n + (harmonic_sum(n - 1))\n",
    "    \n",
    "print(harmonic_sum(7))\n",
    "print(harmonic_sum(4))"
   ]
  },
  {
   "cell_type": "markdown",
   "id": "be091177",
   "metadata": {},
   "source": [
    "# Question 43\n",
    "using array import'\n",
    "1\n",
    "3\n",
    "5\n",
    "7\n",
    "9\n",
    "Access first three items individually\n",
    "1\n",
    "3\n",
    "5"
   ]
  },
  {
   "cell_type": "code",
   "execution_count": 10,
   "id": "d5c8203b",
   "metadata": {},
   "outputs": [
    {
     "name": "stdout",
     "output_type": "stream",
     "text": [
      "1\n",
      "3\n",
      "5\n",
      "7\n",
      "9\n",
      "Access first three items individually\n",
      "1\n",
      "3\n",
      "5\n"
     ]
    }
   ],
   "source": [
    "from array import *\n",
    "array_num = array('i', [1,3,5,7,9])\n",
    "for i in array_num:\n",
    "    print(i)\n",
    "print(\"Access first three items individually\")\n",
    "print(array_num[0])\n",
    "print(array_num[1])\n",
    "print(array_num[2])"
   ]
  },
  {
   "cell_type": "markdown",
   "id": "f078ff09",
   "metadata": {},
   "source": [
    "# Question 44\n",
    "Write a Python program to reverse the order of the items in the array. Go to the editor\n",
    "Sample Output\n",
    "Original array: array('i', [1, 3, 5, 3, 7, 1, 9, 3])\n",
    "Reverse the order of the items:\n",
    "array('i', [3, 9, 1, 7, 3, 5, 3, 1])"
   ]
  },
  {
   "cell_type": "code",
   "execution_count": 11,
   "id": "9318f482",
   "metadata": {},
   "outputs": [
    {
     "name": "stdout",
     "output_type": "stream",
     "text": [
      "Original array: array('i', [1, 3, 5, 3, 7, 1, 9, 3])\n",
      "Reverse the order of the items:\n",
      "array('i', [3, 9, 1, 7, 3, 5, 3, 1])\n"
     ]
    }
   ],
   "source": [
    "from array import *\n",
    "array_num = array('i', [1, 3, 5, 3, 7, 1, 9, 3])\n",
    "print(\"Original array: \"+str(array_num))\n",
    "array_num.reverse()\n",
    "print(\"Reverse the order of the items:\")\n",
    "print(str(array_num))"
   ]
  },
  {
   "cell_type": "markdown",
   "id": "af4b0c29",
   "metadata": {},
   "source": [
    "# Question 45\n",
    " Write a Python program to get the least common multiple (LCM) of two positive integers."
   ]
  },
  {
   "cell_type": "code",
   "execution_count": 12,
   "id": "0854439c",
   "metadata": {},
   "outputs": [
    {
     "name": "stdout",
     "output_type": "stream",
     "text": [
      "12\n",
      "255\n"
     ]
    }
   ],
   "source": [
    "def lcm(x, y):\n",
    "  if x > y:\n",
    "      z = x\n",
    "  else:\n",
    "      z = y\n",
    "  while(True):\n",
    "      if((z % x == 0) and (z % y == 0)):\n",
    "          lcm = z\n",
    "          break\n",
    "      z += 1\n",
    "  return lcm\n",
    "print(lcm(4, 6))\n",
    "print(lcm(15, 17))\n"
   ]
  },
  {
   "cell_type": "markdown",
   "id": "83dd3a58",
   "metadata": {},
   "source": [
    "# Question 46\n",
    "Write a Python program to display your details like name, age, address in three different lines"
   ]
  },
  {
   "cell_type": "code",
   "execution_count": 16,
   "id": "0d6583ed",
   "metadata": {},
   "outputs": [
    {
     "name": "stdout",
     "output_type": "stream",
     "text": [
      "Name: Simon\n",
      "Age: 19\n",
      "Address: Bangalore, Karnataka, India\n"
     ]
    }
   ],
   "source": [
    "def personal_details():\n",
    "    name, age = \"Simon\", 19\n",
    "    address = \"Bangalore, Karnataka, India\"\n",
    "    print(\"Name: {}\\nAge: {}\\nAddress: {}\".format(name, age, address))\n",
    "\n",
    "personal_details()"
   ]
  },
  {
   "cell_type": "markdown",
   "id": "0fceb33f",
   "metadata": {},
   "source": [
    "# Question 47\n",
    "Write a Python program to determine if a Python shell is executing in 32bit or 64bit mode on OS"
   ]
  },
  {
   "cell_type": "code",
   "execution_count": 15,
   "id": "7ea50f47",
   "metadata": {},
   "outputs": [
    {
     "name": "stdout",
     "output_type": "stream",
     "text": [
      "64bit\n",
      "64\n"
     ]
    }
   ],
   "source": [
    "import platform, struct\n",
    "print(platform.architecture()[0])\n",
    "print(struct.calcsize(\"P\") * 8)"
   ]
  },
  {
   "cell_type": "markdown",
   "id": "fc4aab55",
   "metadata": {},
   "source": [
    "# Question 48\n",
    "Write a python program to call an external command in Python"
   ]
  },
  {
   "cell_type": "code",
   "execution_count": 20,
   "id": "5f3b89cb",
   "metadata": {},
   "outputs": [
    {
     "name": "stdout",
     "output_type": "stream",
     "text": [
      "1\n"
     ]
    }
   ],
   "source": [
    "import os\n",
    "print(os.system('ls -l'))"
   ]
  },
  {
   "cell_type": "markdown",
   "id": "53ef7fcc",
   "metadata": {},
   "source": [
    "# Question 49\n",
    " Write a Python program to sum of the first n positive integers"
   ]
  },
  {
   "cell_type": "code",
   "execution_count": 23,
   "id": "082a1be8",
   "metadata": {},
   "outputs": [
    {
     "name": "stdout",
     "output_type": "stream",
     "text": [
      "Input a number: 2\n",
      "Sum of the first 2 positive integers: 3.0\n"
     ]
    }
   ],
   "source": [
    "n = int(input(\"Input a number: \"))\n",
    "sum_num = (n * (n + 1)) / 2\n",
    "print(\"Sum of the first\", n ,\"positive integers:\", sum_num)"
   ]
  },
  {
   "cell_type": "markdown",
   "id": "0e42f0ea",
   "metadata": {},
   "source": [
    "# Question 50\n",
    " Write a Python program to calculate body mass index."
   ]
  },
  {
   "cell_type": "code",
   "execution_count": 26,
   "id": "f7c7650a",
   "metadata": {},
   "outputs": [
    {
     "name": "stdout",
     "output_type": "stream",
     "text": [
      "Input your height in Feet: 5.4\n",
      "Input your weight in Kilogram: 64\n",
      "Your body mass index is:  2.19\n"
     ]
    }
   ],
   "source": [
    "height = float(input(\"Input your height in Feet: \"))\n",
    "weight = float(input(\"Input your weight in Kilogram: \"))\n",
    "print(\"Your body mass index is: \", round(weight / (height * height), 2))"
   ]
  },
  {
   "cell_type": "markdown",
   "id": "60cc4934",
   "metadata": {},
   "source": [
    "# QUESTION 51\n",
    "TABLES"
   ]
  },
  {
   "cell_type": "code",
   "execution_count": 7,
   "id": "a3274ac3",
   "metadata": {},
   "outputs": [
    {
     "name": "stdout",
     "output_type": "stream",
     "text": [
      "enter the number:2\n",
      "2 x 1 = 2\n",
      "2 x 2 = 4\n",
      "2 x 3 = 6\n",
      "2 x 4 = 8\n",
      "2 x 5 = 10\n",
      "2 x 6 = 12\n",
      "2 x 7 = 14\n",
      "2 x 8 = 16\n",
      "2 x 9 = 18\n",
      "2 x 10 = 20\n",
      "2 x 11 = 22\n",
      "2 x 12 = 24\n",
      "2 x 13 = 26\n",
      "2 x 14 = 28\n",
      "2 x 15 = 30\n",
      "2 x 16 = 32\n",
      "2 x 17 = 34\n",
      "2 x 18 = 36\n",
      "2 x 19 = 38\n",
      "2 x 20 = 40\n"
     ]
    }
   ],
   "source": [
    "i = 1\n",
    "#number = 0\n",
    "number = int (input(\"enter the number:\"))\n",
    "while i <= 20: #looping condition if it is true then it goes inside the loop statement\n",
    "    print(\"%d x %d = %d\"%(number,i,number*i))\n",
    "    i = i+1\n",
    "    \n"
   ]
  },
  {
   "cell_type": "markdown",
   "id": "33e02ad3",
   "metadata": {},
   "source": [
    "# infinite while loop\n",
    "if the condition give in the while loop never become false then the while loop will never terminate and result into the infinite while loop\n",
    "any non-zero value in the while loop indicates an always true conddition whereas 0 incdicates the always false condition. This type of approach is useful if we want our program to run continuously in the loop without any distrubancve"
   ]
  },
  {
   "cell_type": "code",
   "execution_count": 1,
   "id": "771b68b4",
   "metadata": {},
   "outputs": [],
   "source": [
    "#example\n",
    "#while(1):\n",
    "    #print(\"hi, this is infinite loop\")\n"
   ]
  },
  {
   "cell_type": "code",
   "execution_count": null,
   "id": "1f846daa",
   "metadata": {},
   "outputs": [
    {
     "name": "stdout",
     "output_type": "stream",
     "text": [
      "enter num:3\n",
      "Entered the value is 3\n"
     ]
    }
   ],
   "source": [
    "# example 2\n",
    "var = 10\n",
    "while var !=2:\n",
    "    i = int(input(\"enter num:\"))\n",
    "    print(\"Entered the value is %d\"%(i))"
   ]
  },
  {
   "cell_type": "markdown",
   "id": "5bb86a4c",
   "metadata": {},
   "source": [
    "# QUESTION 52"
   ]
  },
  {
   "cell_type": "code",
   "execution_count": 11,
   "id": "22a7ab5a",
   "metadata": {},
   "outputs": [
    {
     "name": "stdout",
     "output_type": "stream",
     "text": [
      "Enter the 10 numbers: 3\n",
      "Enter the 10 numbers: 4\n",
      "Enter the 10 numbers: 5\n",
      "Enter the 10 numbers: 6\n",
      "Enter the 10 numbers: 7\n",
      "Enter the 10 numbers: 8\n",
      "Enter the 10 numbers: 9\n",
      "Enter the 10 numbers: 1\n",
      "Enter the 10 numbers: 2\n",
      "Enter the 10 numbers: 3\n",
      "average of the numbers is: 0.3\n"
     ]
    }
   ],
   "source": [
    "# while loop function\n",
    "#Take 10 integers from keyboard using loop and print their average value on the screen.\n",
    "\n",
    "sum = 0\n",
    "i = 10\n",
    "while i > 0:\n",
    "    n = int(input(\"Enter the 10 numbers: \"))\n",
    "    sum = sum+n\n",
    "    i = i-1\n",
    "print(\"average of the numbers is:\",n/10)\n",
    "    "
   ]
  },
  {
   "cell_type": "markdown",
   "id": "06150bd8",
   "metadata": {},
   "source": [
    " # QUESTION 53"
   ]
  },
  {
   "cell_type": "code",
   "execution_count": 15,
   "id": "3fb96a2e",
   "metadata": {},
   "outputs": [
    {
     "name": "stdout",
     "output_type": "stream",
     "text": [
      "Enter the 10 numbers: 1\n",
      "1\n",
      "Enter the 10 numbers: 2\n",
      "3\n",
      "Enter the 10 numbers: 3\n",
      "6\n",
      "Enter the 10 numbers: 4\n",
      "10\n",
      "Enter the 10 numbers: 4\n",
      "14\n",
      "Enter the 10 numbers: 3\n",
      "17\n",
      "Enter the 10 numbers: 3\n",
      "20\n",
      "Enter the 10 numbers: 2\n",
      "22\n",
      "Enter the 10 numbers: 2\n",
      "24\n",
      "Enter the 10 numbers: 4\n",
      "28\n",
      "average of the numbers is: 2.8\n"
     ]
    }
   ],
   "source": [
    "sum = 0\n",
    "i = 0\n",
    "while i < 10:\n",
    "    n = int(input(\"Enter the 10 numbers: \"))\n",
    "    sum = sum+n\n",
    "    print(sum)\n",
    "    i = i+1\n",
    "print(\"average of the numbers is:\",sum/10)\n",
    "    "
   ]
  },
  {
   "cell_type": "markdown",
   "id": "e616fbe8",
   "metadata": {},
   "source": [
    "# pattern\n",
    "# *\n",
    "# * *\n",
    "# * * *\n",
    "# * * * *"
   ]
  },
  {
   "cell_type": "markdown",
   "id": "f3c0a1fa",
   "metadata": {},
   "source": [
    " # QUESTION 54"
   ]
  },
  {
   "cell_type": "code",
   "execution_count": 32,
   "id": "f739e384",
   "metadata": {
    "scrolled": true
   },
   "outputs": [
    {
     "name": "stdout",
     "output_type": "stream",
     "text": [
      "1\n",
      "*\n",
      "**\n",
      "***\n",
      "****\n",
      "another method\n",
      "x\n",
      "xx\n",
      "xxx\n",
      "xxxx\n",
      "xxxxx\n",
      "done\n"
     ]
    }
   ],
   "source": [
    "i = int(input()) \n",
    "while i < 5:\n",
    "    print('*' * i)\n",
    "    i += 1\n",
    "print(\"another method\")   \n",
    "count = 1 #initialization\n",
    "while count <= 5: #condition\n",
    "    print(\"x\" * count)\n",
    "    count += 1 # incrementation\n",
    "print(\"done\") # global function"
   ]
  },
  {
   "cell_type": "code",
   "execution_count": 31,
   "id": "a9ad837c",
   "metadata": {},
   "outputs": [
    {
     "name": "stdout",
     "output_type": "stream",
     "text": [
      "xxxxx\n",
      "xxxx\n",
      "xxx\n",
      "xx\n",
      "x\n",
      "done\n"
     ]
    }
   ],
   "source": [
    "count = 5 # initialization\n",
    "while count >= 1: #condition\n",
    "    print(\"x\"*count) \n",
    "    count -= 1 #decrement\n",
    "print(\"done\")"
   ]
  },
  {
   "cell_type": "markdown",
   "id": "3ddf1e65",
   "metadata": {},
   "source": [
    " # QUESTION 55"
   ]
  },
  {
   "cell_type": "code",
   "execution_count": 45,
   "id": "327cde87",
   "metadata": {},
   "outputs": [
    {
     "name": "stdout",
     "output_type": "stream",
     "text": [
      "x\n",
      "m\n",
      "mm\n",
      "mmmm\n",
      "\n",
      "xx\n",
      "m\n",
      "mm\n",
      "mmmm\n",
      "\n",
      "xxx\n",
      "m\n",
      "mm\n",
      "mmmm\n",
      "\n",
      "xxxx\n",
      "m\n",
      "mm\n",
      "mmmm\n",
      "\n",
      "xxxxx\n",
      "m\n",
      "mm\n",
      "mmmm\n",
      "\n"
     ]
    }
   ],
   "source": [
    "# While inside while...\n",
    "i = 1\n",
    "while i <= 5:\n",
    "    print(\"x\"*i) # if you add this  end = \"\" then all x will be in same line not go to 2nd liness...4\n",
    "    j = 1\n",
    "    while j <= 4:\n",
    "        print(\"m\"*j)# here 1st inner loops works 1st \n",
    "        j +=j\n",
    "    i += 1\n",
    "    print() # leave space between each blocks\n",
    "    "
   ]
  }
 ],
 "metadata": {
  "kernelspec": {
   "display_name": "Python 3",
   "language": "python",
   "name": "python3"
  },
  "language_info": {
   "codemirror_mode": {
    "name": "ipython",
    "version": 3
   },
   "file_extension": ".py",
   "mimetype": "text/x-python",
   "name": "python",
   "nbconvert_exporter": "python",
   "pygments_lexer": "ipython3",
   "version": "3.8.8"
  }
 },
 "nbformat": 4,
 "nbformat_minor": 5
}
